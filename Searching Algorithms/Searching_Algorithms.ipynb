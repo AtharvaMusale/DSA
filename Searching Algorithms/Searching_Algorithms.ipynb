{
  "nbformat": 4,
  "nbformat_minor": 0,
  "metadata": {
    "colab": {
      "name": "Searching Algorithms.ipynb",
      "provenance": []
    },
    "kernelspec": {
      "name": "python3",
      "display_name": "Python 3"
    },
    "language_info": {
      "name": "python"
    },
    "accelerator": "GPU"
  },
  "cells": [
    {
      "cell_type": "markdown",
      "metadata": {
        "id": "3sOH2NWFiWnL"
      },
      "source": [
        "# **Binary Search**\n",
        "## Things to keep in mind\n",
        "* It can be implemented on a sorted array only\n",
        "* For the successful search O(log n)\n",
        "* Iterative Solution is better than Recursive because recursive solution will cause the overhead and takes more space\n"
      ]
    },
    {
      "cell_type": "code",
      "metadata": {
        "id": "T58WePfMiy0o",
        "colab": {
          "base_uri": "https://localhost:8080/"
        },
        "outputId": "7c7054a6-ef4e-41cb-da98-2a0f3425ab4b"
      },
      "source": [
        "import numpy as np\n",
        "def BinarySearchRecursive(arr,low,high,element):\n",
        "  mid = int(((low+high)/2))\n",
        "  if low<=high:\n",
        "    \n",
        "    if arr[mid] == element:\n",
        "      print('Present')\n",
        "      print((mid))\n",
        "      return mid\n",
        "\n",
        "\n",
        "    elif arr[mid]<element:\n",
        "      BinarySearchRecursive(arr,mid+1,high,element)\n",
        "\n",
        "    elif arr[mid]>element:\n",
        "      BinarySearchRecursive(arr,low,mid-1,element)\n",
        "  \n",
        "  else: \n",
        "       print('Not Present')\n",
        "\n",
        "\n",
        "def test():\n",
        "  arr = sorted(np.random.randint(low=0,high=10,size=5,dtype=np.int32))\n",
        "  print('The input array is:',arr)\n",
        "  element = int(input())\n",
        "  print('The input to be searched is:',element)\n",
        "  low = 0\n",
        "  high = len(arr)-1\n",
        "  BinarySearchRecursive(arr,low,high,element)\n",
        "test()"
      ],
      "execution_count": null,
      "outputs": [
        {
          "output_type": "stream",
          "name": "stdout",
          "text": [
            "The input array is: [2, 3, 4, 5, 9]\n",
            "2\n",
            "The input to be searched is: 2\n",
            "Present\n",
            "0\n"
          ]
        }
      ]
    },
    {
      "cell_type": "code",
      "metadata": {
        "colab": {
          "base_uri": "https://localhost:8080/"
        },
        "id": "U9zBo1IKy2Mv",
        "outputId": "779774e7-0ff1-4ab9-fb52-746c4de57ace"
      },
      "source": [
        "def BinarySearchRecursive(arr,low,high,element):\n",
        "  mid = int(((low+high)/2))\n",
        "  if low<=high:\n",
        "    \n",
        "    if arr[mid] == element:\n",
        "      print('Present')\n",
        "      print((mid))\n",
        "      return mid\n",
        "\n",
        "\n",
        "    elif arr[mid]<element:\n",
        "      BinarySearchRecursive(arr,mid+1,high,element)\n",
        "\n",
        "    elif arr[mid]>element:\n",
        "      BinarySearchRecursive(arr,low,mid-1,element)\n",
        "  \n",
        "  else: \n",
        "       print('Not Present')\n",
        "\n",
        "\n",
        "def test():\n",
        "  arr = sorted(np.random.randint(low=0,high=10,size=5,dtype=np.int32))\n",
        "  print('The input array is:',arr)\n",
        "  \n",
        "  print('The input to be searched is:')\n",
        "  element = int(input())\n",
        "  low = 0\n",
        "  high = len(arr)-1\n",
        "  BinarySearchRecursive(arr,low,high,element)\n",
        "test()"
      ],
      "execution_count": null,
      "outputs": [
        {
          "output_type": "stream",
          "name": "stdout",
          "text": [
            "The input array is: [1, 1, 2, 4, 4]\n",
            "The input to be searched is:\n",
            "7\n",
            "Not Present\n"
          ]
        }
      ]
    },
    {
      "cell_type": "code",
      "metadata": {
        "id": "cx2iFRXMChNH",
        "colab": {
          "base_uri": "https://localhost:8080/"
        },
        "outputId": "61e4f344-bfcb-4bf1-b306-9ca0141b8b33"
      },
      "source": [
        "def BinarySearchRecursiveFirstOccurrence(arr,low,high,element):\n",
        "  mid = int((low+high)/2)\n",
        "  if low<=high:\n",
        "    if arr[mid]==element:\n",
        "      # print('Present at {} index'.format(mid))\n",
        "      if mid==0 or arr[mid-1]!=arr[mid]:\n",
        "        \n",
        "        print('The first occurrence is at {} index'.format(mid))\n",
        "        return mid\n",
        "      else:\n",
        "        return BinarySearchRecursiveFirstOccurrence(arr,low,mid-1,element)\n",
        "      \n",
        "    elif arr[mid]<element:\n",
        "      BinarySearchRecursiveFirstOccurrence(arr,mid+1,high,element)\n",
        "    elif arr[mid]>element:\n",
        "      BinarySearchRecursiveFirstOccurrence(arr,low,mid-1,element)\n",
        "  else:\n",
        "    print('Not Present')\n",
        "\n",
        "def test():\n",
        "  # arr = sorted(np.random.randint(low=0,high=10,size=5,dtype=np.int32))\n",
        "  lst = []\n",
        "  \n",
        "  # number of elements as input\n",
        "  n = int(input(\"Enter number of elements : \"))\n",
        "  \n",
        "  # iterating till the range\n",
        "  for i in range(0, n):\n",
        "      ele = int(input())\n",
        "  \n",
        "      lst.append(ele) # adding the element\n",
        "  arr = lst\n",
        "  print(type(arr))\n",
        "  print('The input array is:',arr)\n",
        "  \n",
        "  \n",
        "  print('The input to be searched is:')\n",
        "  element = int(input())\n",
        "  low = 0\n",
        "\n",
        "\n",
        "  high = len(arr)-1\n",
        "  mid = int(low+high)/2\n",
        "  BinarySearchRecursiveFirstOccurrence(arr,low,high,element)\n",
        "test()"
      ],
      "execution_count": null,
      "outputs": [
        {
          "output_type": "stream",
          "name": "stdout",
          "text": [
            "Enter number of elements : 4\n",
            "1\n",
            "2\n",
            "3\n",
            "3\n",
            "<class 'list'>\n",
            "The input array is: [1, 2, 3, 3]\n",
            "The input to be searched is:\n",
            "3\n",
            "The first occurrence is at 2 index\n"
          ]
        }
      ]
    },
    {
      "cell_type": "code",
      "metadata": {
        "colab": {
          "base_uri": "https://localhost:8080/"
        },
        "id": "1BvewTi5KeiK",
        "outputId": "e4c5bdfa-81ab-40a5-828f-bc850eb48841"
      },
      "source": [
        "4def BinarySearchRecursiveLastOccurrence(arr,low,high,element):\n",
        "  mid = int((low+high)/2)\n",
        "  if low<=high:\n",
        "    if arr[mid]==element:\n",
        "      if mid==(len(arr)-1) or arr[mid+1]!=arr[mid]:\n",
        "        \n",
        "        print('The last occurrence is at {} index'.format(mid))\n",
        "        return mid\n",
        "      else:\n",
        "        return BinarySearchRecursiveLastOccurrence(arr,mid+1,high,element)\n",
        "      \n",
        "    elif arr[mid]<element:\n",
        "      BinarySearchRecursiveLastOccurrence(arr,mid+1,high,element)\n",
        "    elif arr[mid]>element:\n",
        "      BinarySearchRecursiveLastOccurrence(arr,low,mid-1,element)\n",
        "  else:\n",
        "    print('Not Present')\n",
        "\n",
        "def test():\n",
        "  # arr = sorted(np.random.randint(low=0,high=10,size=5,dtype=np.int32))\n",
        "  lst = []\n",
        "  \n",
        "  # number of elements as input\n",
        "  n = int(input(\"Enter number of elements : \"))\n",
        "  \n",
        "  # iterating till the range\n",
        "  for i in range(0, n):\n",
        "      ele = int(input())\n",
        "  \n",
        "      lst.append(ele) # adding the element\n",
        "  arr = lst\n",
        "  print(type(arr))\n",
        "  print('The input array is:',arr)\n",
        "  \n",
        "  print('The input to be searched is:')\n",
        "  element = int(input())\n",
        "  low = 0\n",
        "\n",
        "\n",
        "  high = len(arr)-1\n",
        "  mid = int(low+high)/2\n",
        "  BinarySearchRecursiveLastOccurrence(arr,low,high,element)\n",
        "test()"
      ],
      "execution_count": null,
      "outputs": [
        {
          "output_type": "stream",
          "name": "stdout",
          "text": [
            "Enter number of elements : 6\n",
            "1\n",
            "1\n",
            "1\n",
            "1\n",
            "2\n",
            "2\n",
            "<class 'list'>\n",
            "The input array is: [1, 1, 1, 1, 2, 2]\n",
            "The input to be searched is:\n",
            "1\n",
            "The last occurrence is at 3 index\n"
          ]
        }
      ]
    },
    {
      "cell_type": "code",
      "metadata": {
        "colab": {
          "base_uri": "https://localhost:8080/"
        },
        "id": "TuU725vpxa0K",
        "outputId": "9e1e6b8c-2bcd-48ec-d8d9-01cadaf69a4f"
      },
      "source": [
        "def BinarySearchCountOnes(arr,low,high,element):\n",
        "  mid = int((low+high)/2)\n",
        "  if low<=high:\n",
        "    if arr[mid]==element:\n",
        "      if arr[mid-1] != arr[mid] or mid==0:\n",
        "        print('Count of the 1s in the array is {}'.format(len(arr)-mid))\n",
        "        return len(arr)-mid\n",
        "      else:\n",
        "        BinarySearchRecursiveFirstOccurrence(arr,low,mid-1,element)\n",
        "\n",
        "    elif arr[mid]<element:\n",
        "      BinarySearchRecursiveFirstOccurrence(arr,mid+1,high,element)\n",
        "\n",
        "    elif arr[mid]>element:\n",
        "      BinarySearchRecursiveFirstOccurrence(arr,low,mid-1,element)\n",
        "\n",
        "  else:\n",
        "    print('Not Present')     \n",
        "    \n",
        "\n",
        "def test():\n",
        "  # arr = sorted(np.random.randint(low=0,high=10,size=5,dtype=np.int32))\n",
        "  lst = []\n",
        "  \n",
        "  # number of elements as input\n",
        "  n = int(input(\"Enter number of elements : \"))\n",
        "  \n",
        "  # iterating till the range\n",
        "  for i in range(0, n):\n",
        "      ele = int(input())\n",
        "  \n",
        "      lst.append(ele) # adding the element\n",
        "  arr = lst\n",
        "  print(type(arr))\n",
        "  print('The input array is:',arr)\n",
        "  \n",
        "  print('The input to be searched is:')\n",
        "  element = int(input())\n",
        "  low = 0\n",
        "\n",
        "\n",
        "  high = len(arr)-1\n",
        "\n",
        "  BinarySearchCountOnes(arr,low,high,element)\n",
        "test()"
      ],
      "execution_count": null,
      "outputs": [
        {
          "output_type": "stream",
          "name": "stdout",
          "text": [
            "Enter number of elements : 5\n",
            "0\n",
            "0\n",
            "0\n",
            "0\n",
            "0\n",
            "<class 'list'>\n",
            "The input array is: [0, 0, 0, 0, 0]\n",
            "The input to be searched is:\n",
            "1\n",
            "Not Present\n"
          ]
        }
      ]
    },
    {
      "cell_type": "code",
      "metadata": {
        "colab": {
          "base_uri": "https://localhost:8080/"
        },
        "id": "Dz7NeUqS2B70",
        "outputId": "db7465dc-9b9b-44b3-8baf-39dd0531375d"
      },
      "source": [
        "def squareRoot(number, precision):\n",
        "  \n",
        "\tstart = 0\n",
        "\tend, ans = number, 1\n",
        "\n",
        "\twhile (start <= end):\n",
        "\t\tmid = int((start + end) / 2)\n",
        "\n",
        "\t\tif (mid * mid == number):\n",
        "\t\t\tans = mid\n",
        "\t\t\tbreak\n",
        "\n",
        "\t\tif (mid * mid < number):\n",
        "\t\t\tstart = mid + 1\n",
        "\t\t\tans = mid\n",
        "\n",
        "\t\telse:\n",
        "\t\t\tend = mid - 1\n",
        "\n",
        "\tincrement = 0.1\n",
        "\tfor i in range(0, precision):\n",
        "\t\twhile (ans * ans <= number):\n",
        "\t\t\tans += increment\n",
        "\n",
        "\t\tans = ans - increment\n",
        "\t\tincrement = increment / 10\n",
        "\n",
        "\treturn ans\n",
        "\n",
        "print(round(squareRoot(50, 3), 4))\n",
        "print(round(squareRoot(10, 4), 4))\n",
        "\n"
      ],
      "execution_count": null,
      "outputs": [
        {
          "output_type": "stream",
          "name": "stdout",
          "text": [
            "7.071\n",
            "3.1622\n"
          ]
        }
      ]
    },
    {
      "cell_type": "code",
      "metadata": {
        "id": "03yAOVFZ5YKY",
        "colab": {
          "base_uri": "https://localhost:8080/",
          "height": 623
        },
        "outputId": "09a2d688-5011-4742-886b-8d4785231367"
      },
      "source": [
        ""
      ],
      "execution_count": null,
      "outputs": [
        {
          "output_type": "stream",
          "name": "stdout",
          "text": [
            "Not Present\n",
            "Not Present\n",
            "Not Present\n",
            "Not Present\n",
            "Not Present\n",
            "Not Present\n",
            "Not Present\n",
            "Not Present\n",
            "Not Present\n",
            "Not Present\n",
            "Not Present\n",
            "Not Present\n",
            "Not Present\n",
            "Not Present\n",
            "Not Present\n",
            "Not Present\n"
          ]
        },
        {
          "output_type": "error",
          "ename": "IndexError",
          "evalue": "ignored",
          "traceback": [
            "\u001b[0;31m---------------------------------------------------------------------------\u001b[0m",
            "\u001b[0;31mIndexError\u001b[0m                                Traceback (most recent call last)",
            "\u001b[0;32m<ipython-input-14-a4b901d64787>\u001b[0m in \u001b[0;36m<module>\u001b[0;34m()\u001b[0m\n\u001b[1;32m     19\u001b[0m   \u001b[0mFindElementInInfiniteArray\u001b[0m\u001b[0;34m(\u001b[0m\u001b[0marr\u001b[0m\u001b[0;34m,\u001b[0m\u001b[0melement\u001b[0m\u001b[0;34m)\u001b[0m\u001b[0;34m\u001b[0m\u001b[0;34m\u001b[0m\u001b[0m\n\u001b[1;32m     20\u001b[0m \u001b[0;34m\u001b[0m\u001b[0m\n\u001b[0;32m---> 21\u001b[0;31m \u001b[0mtest\u001b[0m\u001b[0;34m(\u001b[0m\u001b[0;34m)\u001b[0m\u001b[0;34m\u001b[0m\u001b[0;34m\u001b[0m\u001b[0m\n\u001b[0m",
            "\u001b[0;32m<ipython-input-14-a4b901d64787>\u001b[0m in \u001b[0;36mtest\u001b[0;34m()\u001b[0m\n\u001b[1;32m     17\u001b[0m   \u001b[0;31m# print(arr)\u001b[0m\u001b[0;34m\u001b[0m\u001b[0;34m\u001b[0m\u001b[0;34m\u001b[0m\u001b[0m\n\u001b[1;32m     18\u001b[0m   \u001b[0;31m# print(element)\u001b[0m\u001b[0;34m\u001b[0m\u001b[0;34m\u001b[0m\u001b[0;34m\u001b[0m\u001b[0m\n\u001b[0;32m---> 19\u001b[0;31m   \u001b[0mFindElementInInfiniteArray\u001b[0m\u001b[0;34m(\u001b[0m\u001b[0marr\u001b[0m\u001b[0;34m,\u001b[0m\u001b[0melement\u001b[0m\u001b[0;34m)\u001b[0m\u001b[0;34m\u001b[0m\u001b[0;34m\u001b[0m\u001b[0m\n\u001b[0m\u001b[1;32m     20\u001b[0m \u001b[0;34m\u001b[0m\u001b[0m\n\u001b[1;32m     21\u001b[0m \u001b[0mtest\u001b[0m\u001b[0;34m(\u001b[0m\u001b[0;34m)\u001b[0m\u001b[0;34m\u001b[0m\u001b[0;34m\u001b[0m\u001b[0m\n",
            "\u001b[0;32m<ipython-input-14-a4b901d64787>\u001b[0m in \u001b[0;36mFindElementInInfiniteArray\u001b[0;34m(arr, element)\u001b[0m\n\u001b[1;32m      7\u001b[0m   \u001b[0;32mwhile\u001b[0m \u001b[0marr\u001b[0m\u001b[0;34m[\u001b[0m\u001b[0mi\u001b[0m\u001b[0;34m]\u001b[0m\u001b[0;34m<\u001b[0m\u001b[0melement\u001b[0m\u001b[0;34m:\u001b[0m\u001b[0;34m\u001b[0m\u001b[0;34m\u001b[0m\u001b[0m\n\u001b[1;32m      8\u001b[0m     \u001b[0mi\u001b[0m\u001b[0;34m*=\u001b[0m\u001b[0;36m2\u001b[0m\u001b[0;34m\u001b[0m\u001b[0;34m\u001b[0m\u001b[0m\n\u001b[0;32m----> 9\u001b[0;31m     \u001b[0;32mif\u001b[0m \u001b[0marr\u001b[0m\u001b[0;34m[\u001b[0m\u001b[0mi\u001b[0m\u001b[0;34m]\u001b[0m \u001b[0;34m==\u001b[0m \u001b[0melement\u001b[0m\u001b[0;34m:\u001b[0m\u001b[0;34m\u001b[0m\u001b[0;34m\u001b[0m\u001b[0m\n\u001b[0m\u001b[1;32m     10\u001b[0m       \u001b[0mprint\u001b[0m\u001b[0;34m(\u001b[0m\u001b[0mi\u001b[0m\u001b[0;34m)\u001b[0m\u001b[0;34m\u001b[0m\u001b[0;34m\u001b[0m\u001b[0m\n\u001b[1;32m     11\u001b[0m       \u001b[0;32mreturn\u001b[0m \u001b[0mi\u001b[0m\u001b[0;34m\u001b[0m\u001b[0;34m\u001b[0m\u001b[0m\n",
            "\u001b[0;31mIndexError\u001b[0m: index 131072 is out of bounds for axis 0 with size 100000"
          ]
        }
      ]
    },
    {
      "cell_type": "code",
      "metadata": {
        "id": "MgtKmU_tIjXO"
      },
      "source": [
        ""
      ],
      "execution_count": null,
      "outputs": []
    }
  ]
}