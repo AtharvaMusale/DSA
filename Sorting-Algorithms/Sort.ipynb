{
  "cells": [
    {
      "cell_type": "code",
      "execution_count": null,
      "metadata": {
        "id": "EE8gpONeOj4A"
      },
      "outputs": [],
      "source": [
        "import numpy as np\n",
        "import time"
      ]
    },
    {
      "cell_type": "markdown",
      "metadata": {
        "id": "SVLqPiSBLPbu"
      },
      "source": [
        "<pre>\n",
        "Stable Sorting Algorithms - Bubble Sort, Merge Sort, Insertion Sort\n",
        "\n",
        "Unstable Sorting Algorithm - Selection Sort, Quick Sort, Heap Sort\n",
        "</pre>"
      ]
    },
    {
      "cell_type": "code",
      "execution_count": null,
      "metadata": {
        "colab": {
          "base_uri": "https://localhost:8080/"
        },
        "id": "RPmYK0Z7HFJd",
        "outputId": "ab5d6e59-a8d4-428b-bd9f-2c12a6a7fcc5"
      },
      "outputs": [
        {
          "name": "stdout",
          "output_type": "stream",
          "text": [
            "Original array is: [6 5 7 3 2 5]\n",
            "Sorted Array Using Bubble Sort is: [2 3 5 5 6 7]\n",
            "Time taken to execute Bubble Sort is: 0.0006492137908935547\n"
          ]
        }
      ],
      "source": [
        "\"\"\"\n",
        "Bubble Sort - Stable Algorithm, Inplace Algorithm\n",
        "\"\"\"\n",
        "def Swap_Var(a,b):\n",
        "  a,b = b,a\n",
        "  return a,b\n",
        "\n",
        "def BubbleSort(arr,n):\n",
        "  swap = False\n",
        "  for i in range(n-1):\n",
        "    for j in range(n-i-1):\n",
        "      if arr[j]>arr[j+1]:\n",
        "        arr[j],arr[j+1] = Swap_Var(arr[j],arr[j+1])\n",
        "        Swap = True\n",
        "    if Swap == False:\n",
        "      break\n",
        "  return arr\n",
        "\n",
        "def test():\n",
        "\n",
        "  arr = np.random.randint(1,10,6)\n",
        "  print(\"Original array is: {}\".format(arr))\n",
        "  begin = time.time()\n",
        "  print(\"Sorted Array Using Bubble Sort is: {}\".format(BubbleSort(arr,len(arr))))\n",
        "  end = time.time()\n",
        "  print('Time taken to execute Bubble Sort is: {}'.format(end-begin))\n",
        "test()\n"
      ]
    },
    {
      "cell_type": "code",
      "execution_count": null,
      "metadata": {
        "colab": {
          "base_uri": "https://localhost:8080/"
        },
        "id": "ZwEv02mZOhe4",
        "outputId": "93f11f52-b6e0-48fa-d851-9c57c5ae5ab6"
      },
      "outputs": [
        {
          "name": "stdout",
          "output_type": "stream",
          "text": [
            "Original array is: [1 5 6 6 2 8]\n",
            "Sorted Array Using Bubble Sort is: [1 2 5 6 6 8]\n",
            "Time taken to execute Bubble Sort is: 0.00021767616271972656\n"
          ]
        }
      ],
      "source": [
        "\"\"\"\n",
        "Selection Sort -  Not a stable algorithm, In Place\n",
        "Very efficient in memory writes but not as efficient as Cycle Sort\n",
        "\"\"\"\n",
        "def Swap(a,b):\n",
        "  return b,a\n",
        "def SelectionSort(arr):\n",
        "  n = len(arr)\n",
        "  for i in range(n-1):\n",
        "    min_ind = i\n",
        "    for j in range(i+1,n):\n",
        "      if arr[j]<arr[min_ind]:\n",
        "        arr[j],arr[min_ind] = Swap(arr[j],arr[min_ind])\n",
        "  \n",
        "  return arr\n",
        "def test():\n",
        "\n",
        "  arr = np.random.randint(1,10,6)\n",
        "  print(\"Original array is: {}\".format(arr))\n",
        "  begin = time.time()\n",
        "  print(\"Sorted Array Using Bubble Sort is: {}\".format(SelectionSort(arr)))\n",
        "  end = time.time()\n",
        "  print('Time taken to execute Bubble Sort is: {}'.format(end-begin))\n",
        "test()"
      ]
    },
    {
      "cell_type": "code",
      "execution_count": null,
      "metadata": {
        "colab": {
          "base_uri": "https://localhost:8080/"
        },
        "id": "LR295GgoU--D",
        "outputId": "5ed1944e-29fd-40be-f6f2-6d180c4ba4b5"
      },
      "outputs": [
        {
          "name": "stdout",
          "output_type": "stream",
          "text": [
            "Original array is: [2 1 8 2 4 4]\n",
            "Sorted Array Using Insertion Sort is: [1 2 2 4 4 8]\n",
            "Time taken to execute Insertion Sort is: 0.00022482872009277344\n"
          ]
        }
      ],
      "source": [
        "\"\"\"\n",
        "Insertion Sort - Stable, In Place Algorithm\n",
        "Used in practically small arrays in TimSort\n",
        "O(n^2) in worst case and O(n) in best case\n",
        "\"\"\"\n",
        "def InsertionSort(arr):\n",
        "  n = len(arr)\n",
        "  for i in range(1,n):\n",
        "    j=i-1\n",
        "    key = arr[i]\n",
        "    while j>=0 and arr[j]>key:\n",
        "      arr[j+1] = arr[j]\n",
        "      j-=1  \n",
        "    arr[j+1] = key\n",
        "  return arr\n",
        "\n",
        "\n",
        "def test():\n",
        "\n",
        "  arr = np.random.randint(1,10,6)\n",
        "  print(\"Original array is: {}\".format(arr))\n",
        "  begin = time.time()\n",
        "  print(\"Sorted Array Using Insertion Sort is: {}\".format(InsertionSort(arr)))\n",
        "  end = time.time()\n",
        "  print('Time taken to execute Insertion Sort is: {}'.format(end-begin))\n",
        "test()"
      ]
    },
    {
      "cell_type": "markdown",
      "metadata": {
        "id": "OEr7iYjpVm-s"
      },
      "source": [
        "<pre>\n",
        "# **Merge Sort**\n",
        "* Divide and Conquer algorithm\n",
        "* Stable Algorithm\n",
        "* Theta(n logn) time and O(n) space complexity\n",
        "* Well suited for linked list  works in O(1)\n",
        "* Used in external sorting and in TimSort\n",
        "* In general for arrays QuickSort outperforms MergeSort\n",
        "</p>"
      ]
    },
    {
      "cell_type": "code",
      "execution_count": null,
      "metadata": {
        "colab": {
          "base_uri": "https://localhost:8080/"
        },
        "id": "J-sU93Jzp1dc",
        "outputId": "28f7a69d-68ce-4af6-caf7-61014ccfdee2"
      },
      "outputs": [
        {
          "name": "stdout",
          "output_type": "stream",
          "text": [
            "Original array1 is: [1, 4, 5, 6, 7, 9]\n",
            "Original array1 is: [2, 2, 4, 5, 6, 9]\n",
            "1\n",
            "2\n",
            "2\n",
            "4\n",
            "4\n",
            "5\n",
            "5\n",
            "6\n",
            "6\n",
            "7\n",
            "9\n",
            "9\n",
            "Running the MergeTwoSortedListsNone\n",
            "Time taken to execute Insertion Sort is: 0.002688169479370117\n"
          ]
        }
      ],
      "source": [
        "\"\"\"\n",
        "Merging the two sorted arrays\n",
        "\"\"\"\n",
        "def MergeTwoSortedLists(arr1, arr2):\n",
        "  result = []\n",
        "  m = len(arr1)\n",
        "  n = len(arr2)\n",
        "  i,j = 0,0\n",
        "  while i<m and j<n:\n",
        "    if arr1[i]<=arr2[j]:\n",
        "      print(arr1[i])\n",
        "      i+=1\n",
        "  \n",
        "    else:\n",
        "      print(arr2[j])\n",
        "      j+=1\n",
        "\n",
        "  while i<m:\n",
        "    print(arr1[i])\n",
        "    i+=1\n",
        "  \n",
        "  while j<n:\n",
        "    print(arr2[j])\n",
        "    j+=1\n",
        "\n",
        "\n",
        "def test():\n",
        "  arr1 = sorted(np.random.randint(1,10,6))\n",
        "  print(\"Original array1 is: {}\".format(arr1))\n",
        "  arr2 = sorted(np.random.randint(1,10,6))\n",
        "  print(\"Original array1 is: {}\".format(arr2))\n",
        "  begin = time.time()\n",
        "  print(\"Running the MergeTwoSortedLists{}\".format(MergeTwoSortedLists(arr1,arr2)))\n",
        "  end = time.time()\n",
        "  print('Time taken to execute Insertion Sort is: {}'.format(end-begin))\n",
        "test()"
      ]
    },
    {
      "cell_type": "code",
      "execution_count": null,
      "metadata": {
        "id": "kNlFFaJRUIAa"
      },
      "outputs": [],
      "source": [
        "\"\"\"\n",
        "Merge Function for Merge Sort\n",
        "\"\"\"\n"
      ]
    }
  ],
  "metadata": {
    "colab": {
      "name": "Sorting Algorithms.ipynb",
      "provenance": []
    },
    "kernelspec": {
      "display_name": "Python 3",
      "name": "python3"
    },
    "language_info": {
      "name": "python"
    }
  },
  "nbformat": 4,
  "nbformat_minor": 0
}
